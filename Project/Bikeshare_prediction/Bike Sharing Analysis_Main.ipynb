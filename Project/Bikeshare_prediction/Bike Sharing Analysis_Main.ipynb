{
 "cells": [
  {
   "cell_type": "markdown",
   "metadata": {},
   "source": [
    "## Bike Sharing Analysis - Main"
   ]
  },
  {
   "cell_type": "markdown",
   "metadata": {},
   "source": [
    "### Importing Libraries"
   ]
  },
  {
   "cell_type": "code",
   "execution_count": 1,
   "metadata": {},
   "outputs": [],
   "source": [
    "import pandas as pd\n",
    "import pickle\n",
    "import os\n",
    "import numpy as np\n",
    "from sklearn.metrics import mean_absolute_error"
   ]
  },
  {
   "cell_type": "markdown",
   "metadata": {},
   "source": [
    "### Checking the working directory -  pickle file and test data should reside in this destination\n"
   ]
  },
  {
   "cell_type": "code",
   "execution_count": 2,
   "metadata": {},
   "outputs": [
    {
     "name": "stdout",
     "output_type": "stream",
     "text": [
      "C:\\Users\\Surya\\Desktop\\Bike Sharing All\\Bike Sharing Final Code\n"
     ]
    }
   ],
   "source": [
    "print(os.getcwd())"
   ]
  },
  {
   "cell_type": "markdown",
   "metadata": {},
   "source": [
    "### Reading test data"
   ]
  },
  {
   "cell_type": "code",
   "execution_count": 3,
   "metadata": {},
   "outputs": [],
   "source": [
    "test_x=pd.read_csv(\"Bikesharing_test_x.csv\")\n",
    "test_y=pd.read_csv(\"Bikesharing_test_y.csv\")\n",
    "\n",
    "test_x.drop(test_x.columns[[0]], axis=1, inplace=True)\n",
    "test_y.drop(test_y.columns[[0]], axis=1, inplace=True)"
   ]
  },
  {
   "cell_type": "markdown",
   "metadata": {},
   "source": [
    "### Loading the saved GradientBoosting model"
   ]
  },
  {
   "cell_type": "code",
   "execution_count": 4,
   "metadata": {},
   "outputs": [],
   "source": [
    "# load the model from disk\n",
    "Bikesharing_gbm_model = 'Bikesharing_gbm_model.sav'\n",
    "loaded_model = pickle.load(open(Bikesharing_gbm_model, 'rb'))"
   ]
  },
  {
   "cell_type": "markdown",
   "metadata": {},
   "source": [
    "### Using the model to make predictions on the test data and saving the predictions"
   ]
  },
  {
   "cell_type": "code",
   "execution_count": 5,
   "metadata": {},
   "outputs": [],
   "source": [
    "predictions_gbm_best = loaded_model.predict(X= test_x)\n",
    "\n",
    "Bikesharing_Analysis_Predictions=pd.DataFrame({'Predicted Values': predictions_gbm_best[:]})\n",
    "\n",
    "# Saving the predictions on a CSV File\n",
    "Bikesharing_Analysis_Predictions.to_csv('Bikesharing_Analysis_Predictions.csv')\n"
   ]
  },
  {
   "cell_type": "markdown",
   "metadata": {},
   "source": [
    "### Mean Absolute Error between Predicted vs Actual values"
   ]
  },
  {
   "cell_type": "code",
   "execution_count": 6,
   "metadata": {},
   "outputs": [
    {
     "name": "stdout",
     "output_type": "stream",
     "text": [
      "Mean Absolute Error is : 23.24\n"
     ]
    }
   ],
   "source": [
    "print('Mean Absolute Error is : %.2f'%mean_absolute_error(test_y, np.expm1(predictions_gbm_best)))"
   ]
  }
 ],
 "metadata": {
  "kernelspec": {
   "display_name": "Python 3",
   "language": "python",
   "name": "python3"
  },
  "language_info": {
   "codemirror_mode": {
    "name": "ipython",
    "version": 3
   },
   "file_extension": ".py",
   "mimetype": "text/x-python",
   "name": "python",
   "nbconvert_exporter": "python",
   "pygments_lexer": "ipython3",
   "version": "3.7.6"
  }
 },
 "nbformat": 4,
 "nbformat_minor": 4
}
